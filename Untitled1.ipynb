{
 "cells": [
  {
   "cell_type": "code",
   "execution_count": 1,
   "metadata": {
    "collapsed": true
   },
   "outputs": [],
   "source": [
    "import numpy as np"
   ]
  },
  {
   "cell_type": "code",
   "execution_count": 30,
   "metadata": {
    "collapsed": false
   },
   "outputs": [
    {
     "name": "stdout",
     "output_type": "stream",
     "text": [
      "[[[ 0.51810422]\n",
      "  [ 0.0721777 ]\n",
      "  [ 0.40314668]]\n",
      "\n",
      " [[ 0.46404981]\n",
      "  [ 0.059088  ]\n",
      "  [ 0.32775686]]]\n",
      "(2, 3, 1)\n"
     ]
    }
   ],
   "source": [
    "a=np.random.random([2,3,1])\n",
    "print(a)\n",
    "print(a.shape)"
   ]
  },
  {
   "cell_type": "code",
   "execution_count": 36,
   "metadata": {
    "collapsed": false
   },
   "outputs": [
    {
     "name": "stdout",
     "output_type": "stream",
     "text": [
      "[[[ 0.          0.51810422  0.          0.        ]\n",
      "  [ 0.          0.0721777   0.          0.        ]\n",
      "  [ 0.          0.40314668  0.          0.        ]]\n",
      "\n",
      " [[ 0.          0.46404981  0.          0.        ]\n",
      "  [ 0.          0.059088    0.          0.        ]\n",
      "  [ 0.          0.32775686  0.          0.        ]]]\n",
      "(2, 3, 4)\n"
     ]
    }
   ],
   "source": [
    "b=np.pad(a, ((0,0),(0,0),(1,2)), 'constant')\n",
    "print(b)\n",
    "print(b.shape)"
   ]
  },
  {
   "cell_type": "code",
   "execution_count": 42,
   "metadata": {
    "collapsed": false
   },
   "outputs": [
    {
     "name": "stdout",
     "output_type": "stream",
     "text": [
      "[[[0]\n",
      "  [1]\n",
      "  [2]]]\n",
      "\n",
      "[0 1 2]\n"
     ]
    }
   ],
   "source": [
    "x = np.array([[[0], [1], [2]]])\n",
    "print(x)\n",
    "y=np.squeeze(x)\n",
    "print()\n",
    "print(y)"
   ]
  },
  {
   "cell_type": "code",
   "execution_count": 48,
   "metadata": {
    "collapsed": false
   },
   "outputs": [
    {
     "data": {
      "text/plain": [
       "([[1, 2, 3], [1, 45, 3], [14, 5, 3], [1, 5, 3]], [2, 4, 3, 1])"
      ]
     },
     "execution_count": 48,
     "metadata": {},
     "output_type": "execute_result"
    }
   ],
   "source": [
    "from sklearn.utils import shuffle\n",
    "X_train, y_train = shuffle([[1,5,3],[1,2,3],[14,5,3],[1,45,3]], [1,2,3,4])\n",
    "(X_train,y_train)"
   ]
  },
  {
   "cell_type": "code",
   "execution_count": null,
   "metadata": {
    "collapsed": true
   },
   "outputs": [],
   "source": []
  }
 ],
 "metadata": {
  "kernelspec": {
   "display_name": "Python 3",
   "language": "python",
   "name": "python3"
  },
  "language_info": {
   "codemirror_mode": {
    "name": "ipython",
    "version": 3
   },
   "file_extension": ".py",
   "mimetype": "text/x-python",
   "name": "python",
   "nbconvert_exporter": "python",
   "pygments_lexer": "ipython3",
   "version": "3.5.3"
  }
 },
 "nbformat": 4,
 "nbformat_minor": 2
}
